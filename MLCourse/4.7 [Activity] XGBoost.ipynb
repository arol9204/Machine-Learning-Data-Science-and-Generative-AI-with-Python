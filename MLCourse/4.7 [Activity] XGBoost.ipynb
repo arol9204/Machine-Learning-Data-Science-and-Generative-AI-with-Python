{
 "cells": [
  {
   "cell_type": "markdown",
   "metadata": {},
   "source": [
    "Using XGBoost is easy. Maybe too easy, considering it's generally considered the best ML algorithm around right now.\n",
    "\n",
    "To install it, just:\n",
    "\n",
    "pip install xgboost\n",
    "\n",
    "Let's experiment using the Iris data set. This data set includes the width and length of the petals and sepals of many Iris flowers, and the specific species of Iris the flower belongs to. Our challenge is to predict the species of a flower sample just based on the sizes of its petals. We'll revisit this data set later when we talk about principal component analysis too."
   ]
  },
  {
   "cell_type": "code",
   "execution_count": 1,
   "metadata": {},
   "outputs": [
    {
     "name": "stderr",
     "output_type": "stream",
     "text": [
      "C:\\Users\\alero\\.conda\\envs\\ML\\lib\\site-packages\\scipy\\__init__.py:146: UserWarning: A NumPy version >=1.16.5 and <1.23.0 is required for this version of SciPy (detected version 1.24.3\n",
      "  warnings.warn(f\"A NumPy version >={np_minversion} and <{np_maxversion}\"\n"
     ]
    },
    {
     "name": "stdout",
     "output_type": "stream",
     "text": [
      "150\n",
      "4\n",
      "['setosa', 'versicolor', 'virginica']\n"
     ]
    }
   ],
   "source": [
    "from sklearn.datasets import load_iris\n",
    "\n",
    "iris = load_iris()\n",
    "\n",
    "numSamples, numFeatures = iris.data.shape\n",
    "print(numSamples)\n",
    "print(numFeatures)\n",
    "print(list(iris.target_names))"
   ]
  },
  {
   "cell_type": "markdown",
   "metadata": {},
   "source": [
    "Let's divide our data into 20% reserved for testing our model, and the remaining 80% to train it with. By withholding our test data, we can make sure we're evaluating its results based on new flowers it hasn't seen before. Typically we refer to our features (in this case, the petal sizes) as X, and the labels (in this case, the species) as y."
   ]
  },
  {
   "cell_type": "code",
   "execution_count": 2,
   "metadata": {},
   "outputs": [],
   "source": [
    "from sklearn.model_selection import train_test_split\n",
    "\n",
    "X_train, X_test, y_train, y_test = train_test_split(iris.data, iris.target, test_size=0.2, random_state=0)"
   ]
  },
  {
   "cell_type": "markdown",
   "metadata": {},
   "source": [
    "Now we'll load up XGBoost, and convert our data into the DMatrix format it expects. One for the training data, and one for the test data."
   ]
  },
  {
   "cell_type": "code",
   "execution_count": 6,
   "metadata": {},
   "outputs": [],
   "source": [
    "import xgboost as xgb\n",
    "\n",
    "train = xgb.DMatrix(X_train, label=y_train)\n",
    "test = xgb.DMatrix(X_test, label=y_test)"
   ]
  },
  {
   "cell_type": "markdown",
   "metadata": {},
   "source": [
    "Now we'll define our hyperparameters. We're choosing softmax since this is a multiple classification problem, but the other parameters should ideally be tuned through experimentation."
   ]
  },
  {
   "cell_type": "code",
   "execution_count": 7,
   "metadata": {},
   "outputs": [],
   "source": [
    "param = {\n",
    "    'max_depth': 4,\n",
    "    'eta': 0.3,\n",
    "    'objective': 'multi:softmax',\n",
    "    'num_class': 3} \n",
    "epochs = 10 "
   ]
  },
  {
   "cell_type": "markdown",
   "metadata": {},
   "source": [
    "Let's go ahead and train our model using these parameters as a first guess."
   ]
  },
  {
   "cell_type": "code",
   "execution_count": 8,
   "metadata": {},
   "outputs": [],
   "source": [
    "model = xgb.train(param, train, epochs)"
   ]
  },
  {
   "cell_type": "markdown",
   "metadata": {},
   "source": [
    "Now we'll use the trained model to predict classifications for the data we set aside for testing. Each classification number we get back corresponds to a specific species of Iris."
   ]
  },
  {
   "cell_type": "code",
   "execution_count": 9,
   "metadata": {},
   "outputs": [],
   "source": [
    "predictions = model.predict(test)"
   ]
  },
  {
   "cell_type": "code",
   "execution_count": 10,
   "metadata": {},
   "outputs": [
    {
     "name": "stdout",
     "output_type": "stream",
     "text": [
      "[2. 1. 0. 2. 0. 2. 0. 1. 1. 1. 2. 1. 1. 1. 1. 0. 1. 1. 0. 0. 2. 1. 0. 0.\n",
      " 2. 0. 0. 1. 1. 0.]\n"
     ]
    }
   ],
   "source": [
    "print(predictions)"
   ]
  },
  {
   "cell_type": "markdown",
   "metadata": {},
   "source": [
    "Let's measure the accuracy on the test data..."
   ]
  },
  {
   "cell_type": "code",
   "execution_count": 11,
   "metadata": {},
   "outputs": [
    {
     "data": {
      "text/plain": [
       "1.0"
      ]
     },
     "execution_count": 11,
     "metadata": {},
     "output_type": "execute_result"
    }
   ],
   "source": [
    "from sklearn.metrics import accuracy_score\n",
    "\n",
    "accuracy_score(y_test, predictions)"
   ]
  },
  {
   "cell_type": "markdown",
   "metadata": {},
   "source": [
    "Holy crow! It's perfect, and that's just with us guessing as to the best hyperparameters!\n",
    "\n",
    "Normally I'd have you experiment to find better hyperparameters as an activity, but you can't improve on those results. Instead, see what it takes to make the results worse! How few epochs (iterations) can I get away with? How low can I set the max_depth? Basically try to optimize the simplicity and performance of the model, now that you already have perfect accuracy."
   ]
  },
  {
   "cell_type": "code",
   "execution_count": 24,
   "metadata": {},
   "outputs": [],
   "source": [
    "train = xgb.DMatrix(X_train, label=y_train)\n",
    "test = xgb.DMatrix(X_test, label=y_test)"
   ]
  },
  {
   "cell_type": "code",
   "execution_count": 65,
   "metadata": {},
   "outputs": [],
   "source": [
    "# param = {\n",
    "#     'max_depth': 2,\n",
    "#     'eta': 0.3,\n",
    "#     'objective': 'multi:softmax',\n",
    "#     'num_class': 3} \n",
    "# epochs = 2\n",
    "\n",
    "param = {\n",
    "    'max_depth': 3,\n",
    "    'eta': 0.3,\n",
    "    'objective': 'multi:softmax',\n",
    "    'num_class': 3} \n",
    "epochs = 1"
   ]
  },
  {
   "cell_type": "code",
   "execution_count": 66,
   "metadata": {},
   "outputs": [],
   "source": [
    "model = xgb.train(param, train, epochs)"
   ]
  },
  {
   "cell_type": "code",
   "execution_count": 67,
   "metadata": {},
   "outputs": [],
   "source": [
    "predictions = model.predict(test)"
   ]
  },
  {
   "cell_type": "code",
   "execution_count": 68,
   "metadata": {},
   "outputs": [
    {
     "data": {
      "text/plain": [
       "1.0"
      ]
     },
     "execution_count": 68,
     "metadata": {},
     "output_type": "execute_result"
    }
   ],
   "source": [
    "accuracy_score(y_test, predictions)"
   ]
  },
  {
   "cell_type": "markdown",
   "metadata": {},
   "source": [
    "### Concepts applied in this notebook:\n",
    "\n",
    "### XGBoost Model\n",
    "\n",
    "XGBoost stands for eXtreme Gradient Boosting and is an implementation of gradient boosted decision trees designed for speed and performance. It is a highly efficient and scalable version of gradient boosting, and it has gained popularity in machine learning competitions for its performance in classification, regression, and ranking problems. XGBoost works by sequentially adding predictors to an ensemble, each one correcting its predecessor. However, unlike other gradient boosting methods, XGBoost improves upon the algorithm by introducing a regularization term in the loss function to control over-fitting, which enhances its performance.\n",
    "\n",
    "### Parameters of XGBoost\n",
    "\n",
    "XGBoost has a wide array of parameters that can be divided into several categories:\n",
    "\n",
    "- **General Parameters:** These define the overall functionality of XGBoost.\n",
    "  - `booster`: Type of model to run at each iteration. It can be `gbtree` (tree-based models), `gblinear` (linear models), or `dart` (Dropouts meet Multiple Additive Regression Trees).\n",
    "  - `nthread`: Number of parallel threads used to run XGBoost.\n",
    "  - `verbosity`: Level of verbosity of printing messages.\n",
    "\n",
    "- **Booster Parameters:** These parameters depend on which booster you have chosen.\n",
    "  - `eta`: Learning rate, makes the model more robust by shrinking the weights on each step.\n",
    "  - `min_child_weight`: Minimum sum of instance weight (hessian) needed in a child.\n",
    "  - `max_depth`: Maximum depth of a tree, increasing this value will make the model more complex and more likely to overfit.\n",
    "  - `subsample`: Fraction of samples to be used for fitting the individual base learners.\n",
    "  - `colsample_bytree`: Fraction of features to be used for each tree. This parameter can be used as a dimensionality reduction technique.\n",
    "\n",
    "- **Learning Task Parameters:** These parameters specify the learning task and the corresponding learning objective.\n",
    "  - `objective`: Specifies the learning task and the corresponding learning objective like `reg:squarederror` for regression tasks, `binary:logistic` for binary classification.\n",
    "  - `eval_metric`: Evaluation metrics for validation data, allowing users to monitor performance during training.\n",
    "\n",
    "### Features of XGBoost\n",
    "\n",
    "- **Regularized Boosting:** XGBoost introduces regularization terms in the cost function to control over-fitting, which improves model performance and robustness.\n",
    "\n",
    "- **Parallel Processing:** XGBoost utilizes efficient parallel processing, significantly speeding up the learning process. It does this by parallelizing the construction of trees across all available CPU cores during the training phase.\n",
    "\n",
    "- **Incremental Learning:** XGBoost supports incremental learning or the ability to train more using an already trained model without starting from scratch, making it efficient for applications where data arrives in chunks over time.\n",
    "\n",
    "- **Plug In Your Own Optimization Objectives and Evaluation Criteria:** XGBoost allows users to define custom optimization objectives and evaluation criteria, adding a layer of flexibility that can be tailored to very specific and complex industrial problems.\n",
    "\n",
    "- **Tree Pruning:** Unlike other gradient boosting algorithms that grow trees greedily, XGBoost uses a more sophisticated approach called \"depth-first\" approach and prunes trees using the end-to-end tree splitting/regrowth instead of the level-wise growth strategy. This results in more optimal and efficient tree structures.\n",
    "\n",
    "XGBoost has emerged as a highly effective and versatile machine learning algorithm capable of tackling a wide range of data science challenges. Its performance, scalability, and wide array of features make it a popular choice among data scientists and machine learning practitioners.\n"
   ]
  },
  {
   "cell_type": "code",
   "execution_count": null,
   "metadata": {},
   "outputs": [],
   "source": []
  }
 ],
 "metadata": {
  "kernelspec": {
   "display_name": "Python 3 (ipykernel)",
   "language": "python",
   "name": "python3"
  },
  "language_info": {
   "codemirror_mode": {
    "name": "ipython",
    "version": 3
   },
   "file_extension": ".py",
   "mimetype": "text/x-python",
   "name": "python",
   "nbconvert_exporter": "python",
   "pygments_lexer": "ipython3",
   "version": "3.9.19"
  }
 },
 "nbformat": 4,
 "nbformat_minor": 2
}
