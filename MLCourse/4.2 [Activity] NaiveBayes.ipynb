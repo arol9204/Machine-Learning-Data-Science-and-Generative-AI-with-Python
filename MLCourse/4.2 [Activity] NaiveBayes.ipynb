{
 "cells": [
  {
   "cell_type": "markdown",
   "metadata": {},
   "source": [
    "# Naive Bayes (the easy way)"
   ]
  },
  {
   "cell_type": "markdown",
   "metadata": {},
   "source": [
    "We'll cheat by using sklearn.naive_bayes to train a spam classifier! Most of the code is just loading our training data into a pandas DataFrame that we can play with:"
   ]
  },
  {
   "cell_type": "code",
   "execution_count": 1,
   "metadata": {},
   "outputs": [
    {
     "name": "stderr",
     "output_type": "stream",
     "text": [
      "C:\\Users\\alero\\AppData\\Local\\Temp\\ipykernel_16084\\185593513.py:44: FutureWarning: The frame.append method is deprecated and will be removed from pandas in a future version. Use pandas.concat instead.\n",
      "  data = data.append(dataFrameFromDirectory('C:/Users/alero/Documents/GitHub/Machine-Learning-Data-Science-and-Generative-AI-with-Python/MLCourse/emails/spam', 'spam'))\n",
      "C:\\Users\\alero\\AppData\\Local\\Temp\\ipykernel_16084\\185593513.py:45: FutureWarning: The frame.append method is deprecated and will be removed from pandas in a future version. Use pandas.concat instead.\n",
      "  data = data.append(dataFrameFromDirectory('C:/Users/alero/Documents/GitHub/Machine-Learning-Data-Science-and-Generative-AI-with-Python/MLCourse/emails/ham', 'ham'))\n"
     ]
    }
   ],
   "source": [
    "import os\n",
    "import io\n",
    "import numpy\n",
    "import pandas as pd\n",
    "from pandas import DataFrame\n",
    "\n",
    "\n",
    "def readFiles(path):\n",
    "    for root, dirnames, filenames in os.walk(path):\n",
    "        for filename in filenames:\n",
    "            path = os.path.join(root, filename)\n",
    "\n",
    "            inBody = False\n",
    "            lines = []\n",
    "            f = io.open(path, 'r', encoding='latin1')\n",
    "            for line in f:\n",
    "                if inBody:\n",
    "                    lines.append(line)\n",
    "                elif line == '\\n':\n",
    "                    inBody = True\n",
    "            f.close()\n",
    "            message = '\\n'.join(lines)\n",
    "            yield path, message\n",
    "\n",
    "\n",
    "def dataFrameFromDirectory(path, classification):\n",
    "    rows = []\n",
    "    index = []\n",
    "    for filename, message in readFiles(path):\n",
    "        rows.append({'message': message, 'class': classification})\n",
    "        index.append(filename)\n",
    "\n",
    "    return DataFrame(rows, index=index)\n",
    "\n",
    "data = DataFrame({'message': [], 'class': []})\n",
    "\n",
    "# data = pd.concat([data, dataFrameFromDirectory(\"emails/spam\", \"spam\")]);\n",
    "# data = pd.concat([data, dataFrameFromDirectory(\"emails/ham\", \"ham\")])\n",
    "\n",
    "# For Pandas 1.3:\n",
    "# data = data.append(dataFrameFromDirectory('emails/spam', 'spam'))\n",
    "# data = data.append(dataFrameFromDirectory('emails/ham', 'ham'))\n",
    "\n",
    "data = data.append(dataFrameFromDirectory('C:/Users/alero/Documents/GitHub/Machine-Learning-Data-Science-and-Generative-AI-with-Python/MLCourse/emails/spam', 'spam'))\n",
    "data = data.append(dataFrameFromDirectory('C:/Users/alero/Documents/GitHub/Machine-Learning-Data-Science-and-Generative-AI-with-Python/MLCourse/emails/ham', 'ham'))"
   ]
  },
  {
   "cell_type": "markdown",
   "metadata": {},
   "source": [
    "Let's have a look at that DataFrame:"
   ]
  },
  {
   "cell_type": "code",
   "execution_count": 2,
   "metadata": {},
   "outputs": [
    {
     "data": {
      "text/html": [
       "<div>\n",
       "<style scoped>\n",
       "    .dataframe tbody tr th:only-of-type {\n",
       "        vertical-align: middle;\n",
       "    }\n",
       "\n",
       "    .dataframe tbody tr th {\n",
       "        vertical-align: top;\n",
       "    }\n",
       "\n",
       "    .dataframe thead th {\n",
       "        text-align: right;\n",
       "    }\n",
       "</style>\n",
       "<table border=\"1\" class=\"dataframe\">\n",
       "  <thead>\n",
       "    <tr style=\"text-align: right;\">\n",
       "      <th></th>\n",
       "      <th>message</th>\n",
       "      <th>class</th>\n",
       "    </tr>\n",
       "  </thead>\n",
       "  <tbody>\n",
       "    <tr>\n",
       "      <th>C:/Users/alero/Documents/GitHub/Machine-Learning-Data-Science-and-Generative-AI-with-Python/MLCourse/emails/spam\\00001.7848dde101aa985090474a91ec93fcf0</th>\n",
       "      <td>&lt;!DOCTYPE HTML PUBLIC \"-//W3C//DTD HTML 4.0 Tr...</td>\n",
       "      <td>spam</td>\n",
       "    </tr>\n",
       "    <tr>\n",
       "      <th>C:/Users/alero/Documents/GitHub/Machine-Learning-Data-Science-and-Generative-AI-with-Python/MLCourse/emails/spam\\00002.d94f1b97e48ed3b553b3508d116e6a09</th>\n",
       "      <td>1) Fight The Risk of Cancer!\\n\\nhttp://www.adc...</td>\n",
       "      <td>spam</td>\n",
       "    </tr>\n",
       "    <tr>\n",
       "      <th>C:/Users/alero/Documents/GitHub/Machine-Learning-Data-Science-and-Generative-AI-with-Python/MLCourse/emails/spam\\00003.2ee33bc6eacdb11f38d052c44819ba6c</th>\n",
       "      <td>1) Fight The Risk of Cancer!\\n\\nhttp://www.adc...</td>\n",
       "      <td>spam</td>\n",
       "    </tr>\n",
       "    <tr>\n",
       "      <th>C:/Users/alero/Documents/GitHub/Machine-Learning-Data-Science-and-Generative-AI-with-Python/MLCourse/emails/spam\\00004.eac8de8d759b7e74154f142194282724</th>\n",
       "      <td>##############################################...</td>\n",
       "      <td>spam</td>\n",
       "    </tr>\n",
       "    <tr>\n",
       "      <th>C:/Users/alero/Documents/GitHub/Machine-Learning-Data-Science-and-Generative-AI-with-Python/MLCourse/emails/spam\\00005.57696a39d7d84318ce497886896bf90d</th>\n",
       "      <td>I thought you might like these:\\n\\n1) Slim Dow...</td>\n",
       "      <td>spam</td>\n",
       "    </tr>\n",
       "  </tbody>\n",
       "</table>\n",
       "</div>"
      ],
      "text/plain": [
       "                                                                                              message  \\\n",
       "C:/Users/alero/Documents/GitHub/Machine-Learnin...  <!DOCTYPE HTML PUBLIC \"-//W3C//DTD HTML 4.0 Tr...   \n",
       "C:/Users/alero/Documents/GitHub/Machine-Learnin...  1) Fight The Risk of Cancer!\\n\\nhttp://www.adc...   \n",
       "C:/Users/alero/Documents/GitHub/Machine-Learnin...  1) Fight The Risk of Cancer!\\n\\nhttp://www.adc...   \n",
       "C:/Users/alero/Documents/GitHub/Machine-Learnin...  ##############################################...   \n",
       "C:/Users/alero/Documents/GitHub/Machine-Learnin...  I thought you might like these:\\n\\n1) Slim Dow...   \n",
       "\n",
       "                                                   class  \n",
       "C:/Users/alero/Documents/GitHub/Machine-Learnin...  spam  \n",
       "C:/Users/alero/Documents/GitHub/Machine-Learnin...  spam  \n",
       "C:/Users/alero/Documents/GitHub/Machine-Learnin...  spam  \n",
       "C:/Users/alero/Documents/GitHub/Machine-Learnin...  spam  \n",
       "C:/Users/alero/Documents/GitHub/Machine-Learnin...  spam  "
      ]
     },
     "execution_count": 2,
     "metadata": {},
     "output_type": "execute_result"
    }
   ],
   "source": [
    "data.head()"
   ]
  },
  {
   "cell_type": "markdown",
   "metadata": {},
   "source": [
    "Now we will use a CountVectorizer to split up each message into its list of words, and throw that into a MultinomialNB classifier. Call fit() and we've got a trained spam filter ready to go! It's just that easy."
   ]
  },
  {
   "cell_type": "code",
   "execution_count": 3,
   "metadata": {},
   "outputs": [
    {
     "data": {
      "text/plain": [
       "MultinomialNB()"
      ]
     },
     "execution_count": 3,
     "metadata": {},
     "output_type": "execute_result"
    }
   ],
   "source": [
    "from sklearn.feature_extraction.text import CountVectorizer\n",
    "from sklearn.naive_bayes import MultinomialNB\n",
    "\n",
    "vectorizer = CountVectorizer()\n",
    "counts = vectorizer.fit_transform(data['message'].values)\n",
    "\n",
    "classifier = MultinomialNB()\n",
    "targets = data['class'].values\n",
    "classifier.fit(counts, targets)"
   ]
  },
  {
   "cell_type": "code",
   "execution_count": 4,
   "metadata": {},
   "outputs": [
    {
     "data": {
      "text/plain": [
       "scipy.sparse._csr.csr_matrix"
      ]
     },
     "execution_count": 4,
     "metadata": {},
     "output_type": "execute_result"
    }
   ],
   "source": [
    "type(counts)"
   ]
  },
  {
   "cell_type": "markdown",
   "metadata": {},
   "source": [
    "Let's try it out:"
   ]
  },
  {
   "cell_type": "code",
   "execution_count": 5,
   "metadata": {},
   "outputs": [
    {
     "data": {
      "text/plain": [
       "array(['spam', 'ham'], dtype='<U4')"
      ]
     },
     "execution_count": 5,
     "metadata": {},
     "output_type": "execute_result"
    }
   ],
   "source": [
    "examples = ['Free Viagra now!!!', \"Hi Bob, how about a game of golf tomorrow?\"]\n",
    "example_counts = vectorizer.transform(examples)\n",
    "predictions = classifier.predict(example_counts)\n",
    "predictions"
   ]
  },
  {
   "cell_type": "markdown",
   "metadata": {},
   "source": [
    "## Activity"
   ]
  },
  {
   "cell_type": "markdown",
   "metadata": {},
   "source": [
    "Our data set is small, so our spam classifier isn't actually very good. Try running some different test emails through it and see if you get the results you expect.\n",
    "\n",
    "If you really want to challenge yourself, try applying train/test to this spam classifier - see how well it can predict some subset of the ham and spam emails."
   ]
  },
  {
   "cell_type": "markdown",
   "metadata": {},
   "source": [
    "### Part 1 Running different test emails"
   ]
  },
  {
   "cell_type": "code",
   "execution_count": 6,
   "metadata": {},
   "outputs": [
    {
     "data": {
      "text/plain": [
       "array(['ham', 'ham', 'ham'], dtype='<U4')"
      ]
     },
     "execution_count": 6,
     "metadata": {},
     "output_type": "execute_result"
    }
   ],
   "source": [
    "email_1 = 'Hi Alejandro, Your AI-improved resume and premium Career.io access are waiting! Check out your new and improved resume in Career.io’s advanced builder, and activate your free 7-day premium access to take advantage of the 18 tools that will advance your career. Here are just a few ways to use premium Career.io access:Create an exceptional resume & cover letter with our AI-powered phrases & optimization and eye-catching templates using the Resume & Cover Letter builders.Discover job opportunities and manage your applications seamlessly with our Job Search & Job Search Tracker.Enhance your job search strategy with expert guidance and step-by-step guides in the Job Search Plan tool. Nail your interviews with the Interview Prep tool, offering tailored practice questions and AI feedback for optimal performance. Take advantage of this incredible opportunity to take your career to the next level!'\n",
    "email_2 = 'Your Spring Hyundai Service. Our Service Departments Are Ready To Inspect Your Vehicle. Book your appointment today!'\n",
    "email_3 = 'Heres your chance! Up to 90% OFF... Hurry up!'\n",
    "examples = [email_1, email_2, email_3]\n",
    "\n",
    "example_counts = vectorizer.transform(examples)\n",
    "predictions = classifier.predict(example_counts)\n",
    "predictions"
   ]
  },
  {
   "cell_type": "markdown",
   "metadata": {},
   "source": [
    "I was expecting at least email 2 and 3 to be spam so let do the second part of the activity to see how well Naive Bayes Clasifier perform in unseen data applying the training and test split from pandas."
   ]
  },
  {
   "cell_type": "markdown",
   "metadata": {},
   "source": [
    "### Part 2: Spliting in training and testing datasets"
   ]
  },
  {
   "cell_type": "code",
   "execution_count": 7,
   "metadata": {},
   "outputs": [
    {
     "data": {
      "text/plain": [
       "(3000, 2)"
      ]
     },
     "execution_count": 7,
     "metadata": {},
     "output_type": "execute_result"
    }
   ],
   "source": [
    "data.shape"
   ]
  },
  {
   "cell_type": "markdown",
   "metadata": {},
   "source": [
    "#### Data preparation\n",
    "One point to bring up is that the process of vectorization should be do it on all the dataset, so the universe of words from our problem could have a representation of each word.  \n",
    "\n",
    "For example, if we split our data first in the training and the testing datasets, we will get a vectorization from the training data which is going to be different from the one that we could get from the testing, as there are going to be words from the training data that are not going to be necessary present in the testing data."
   ]
  },
  {
   "cell_type": "markdown",
   "metadata": {},
   "source": [
    "Having this in mind lets do the process again from scratch"
   ]
  },
  {
   "cell_type": "code",
   "execution_count": 8,
   "metadata": {},
   "outputs": [],
   "source": [
    "# Creating the vectorizer from the universe of words wchich is all the dataset\n",
    "vectoriazer = CountVectorizer(decode_error='ignore')\n",
    "counts = vectorizer.fit_transform(data['message'].values)"
   ]
  },
  {
   "cell_type": "markdown",
   "metadata": {},
   "source": [
    "Lets now import the training test split function to use it on our data"
   ]
  },
  {
   "cell_type": "code",
   "execution_count": 9,
   "metadata": {},
   "outputs": [],
   "source": [
    "from sklearn.model_selection import train_test_split"
   ]
  },
  {
   "cell_type": "code",
   "execution_count": 10,
   "metadata": {},
   "outputs": [],
   "source": [
    "X = counts\n",
    "y = data[['class']]"
   ]
  },
  {
   "cell_type": "code",
   "execution_count": 11,
   "metadata": {},
   "outputs": [],
   "source": [
    "X_train, X_test, y_train, y_test = train_test_split(X, y, test_size = 0.2, random_state=123, shuffle = True)"
   ]
  },
  {
   "cell_type": "code",
   "execution_count": 12,
   "metadata": {},
   "outputs": [
    {
     "name": "stdout",
     "output_type": "stream",
     "text": [
      "(2400, 62964)\n",
      "(600, 62964)\n"
     ]
    }
   ],
   "source": [
    "print(X_train.shape)\n",
    "print(X_test.shape)"
   ]
  },
  {
   "cell_type": "code",
   "execution_count": 13,
   "metadata": {},
   "outputs": [
    {
     "name": "stdout",
     "output_type": "stream",
     "text": [
      "(2400, 1)\n",
      "(600, 1)\n"
     ]
    }
   ],
   "source": [
    "print(y_train.shape)\n",
    "print(y_test.shape)"
   ]
  },
  {
   "cell_type": "code",
   "execution_count": 14,
   "metadata": {},
   "outputs": [
    {
     "data": {
      "text/plain": [
       "scipy.sparse._csr.csr_matrix"
      ]
     },
     "execution_count": 14,
     "metadata": {},
     "output_type": "execute_result"
    }
   ],
   "source": [
    "type(X_train)"
   ]
  },
  {
   "cell_type": "markdown",
   "metadata": {},
   "source": [
    "#### Model fitting\n",
    "\n",
    "Once we have our data split into training and testing datasets we can proceed to fit the NB clasifier model using the training data."
   ]
  },
  {
   "cell_type": "code",
   "execution_count": 15,
   "metadata": {},
   "outputs": [
    {
     "data": {
      "text/plain": [
       "MultinomialNB()"
      ]
     },
     "execution_count": 15,
     "metadata": {},
     "output_type": "execute_result"
    }
   ],
   "source": [
    "classifier = MultinomialNB()\n",
    "\n",
    "classifier.fit(X_train, y_train['class'].values)"
   ]
  },
  {
   "cell_type": "markdown",
   "metadata": {},
   "source": [
    "#### Getting predictions\n",
    "\n",
    "Once the model is fit we can proceed to get our predictions using the testing dataset, and then compare with the real values to measure the performance of the model."
   ]
  },
  {
   "cell_type": "code",
   "execution_count": 16,
   "metadata": {},
   "outputs": [],
   "source": [
    "y_predictions = classifier.predict(X_test)"
   ]
  },
  {
   "cell_type": "code",
   "execution_count": 17,
   "metadata": {},
   "outputs": [
    {
     "data": {
      "text/plain": [
       "(600,)"
      ]
     },
     "execution_count": 17,
     "metadata": {},
     "output_type": "execute_result"
    }
   ],
   "source": [
    "y_predictions.shape"
   ]
  },
  {
   "cell_type": "markdown",
   "metadata": {},
   "source": [
    "#### Model evaluation\n",
    "Now that we got our predictions for the test dataset using our trained NB classifier model we can measure the performance of the model using a confusion matrix"
   ]
  },
  {
   "cell_type": "code",
   "execution_count": 18,
   "metadata": {},
   "outputs": [],
   "source": [
    "from sklearn.metrics import confusion_matrix "
   ]
  },
  {
   "cell_type": "code",
   "execution_count": 19,
   "metadata": {},
   "outputs": [
    {
     "data": {
      "text/plain": [
       "array([[508,   2],\n",
       "       [ 22,  68]], dtype=int64)"
      ]
     },
     "execution_count": 19,
     "metadata": {},
     "output_type": "execute_result"
    }
   ],
   "source": [
    "cm = confusion_matrix(y_test['class'].values, y_predictions)\n",
    "cm"
   ]
  },
  {
   "cell_type": "code",
   "execution_count": 23,
   "metadata": {},
   "outputs": [
    {
     "data": {
      "text/plain": [
       "<sklearn.metrics._plot.confusion_matrix.ConfusionMatrixDisplay at 0x273ca4f3be0>"
      ]
     },
     "execution_count": 23,
     "metadata": {},
     "output_type": "execute_result"
    },
    {
     "data": {
      "image/png": "[encoded data removed]",
      "text/plain": [
       "<Figure size 640x480 with 2 Axes>"
      ]
     },
     "metadata": {},
     "output_type": "display_data"
    }
   ],
   "source": [
    "from sklearn.metrics import ConfusionMatrixDisplay\n",
    "classes = ['ham', 'spam']\n",
    "disp = ConfusionMatrixDisplay(confusion_matrix=cm, display_labels=classes)\n",
    "disp.plot()\n"
   ]
  },
  {
   "cell_type": "markdown",
   "metadata": {},
   "source": [
    "As we can see from the confusion matrix there are 2 email that are ham, which are classified as spam for our model, and on the other hand, there are 22 spam emails which are classified as ham for our model. "
   ]
  },
  {
   "cell_type": "code",
   "execution_count": 26,
   "metadata": {},
   "outputs": [
    {
     "data": {
      "text/plain": [
       "600"
      ]
     },
     "execution_count": 26,
     "metadata": {},
     "output_type": "execute_result"
    }
   ],
   "source": [
    "cm.sum()"
   ]
  },
  {
   "cell_type": "code",
   "execution_count": 37,
   "metadata": {},
   "outputs": [
    {
     "name": "stdout",
     "output_type": "stream",
     "text": [
      "Accuracy 0.960\n",
      "Precision 0.958\n",
      "Recall 0.996\n"
     ]
    }
   ],
   "source": [
    "accuracy = (cm[0,0] + cm[1,1])/cm.sum()\n",
    "precision = cm[0,0]/ (cm[0,0] + cm[1,0]) # TP / (TP + FP) \n",
    "recall = cm[0,0] / (cm[0,0] + cm[0,1])  # TP / (TP + FN)\n",
    "\n",
    "\n",
    "print('Accuracy {:.3f}'.format(accuracy) ) \n",
    "print('Precision {:.3f}'.format(precision) ) # among all the ham prediction by the model, how many are real ham.\n",
    "print('Recall {:.3f}'.format(recall)) # among all the positive ham, how many the model predicted well."
   ]
  },
  {
   "cell_type": "markdown",
   "metadata": {},
   "source": [
    "# Concepts applied in this notebook:\n",
    "\n",
    "- **Multinomial Naive Bayes Classifier Model:** This is a specific instance of a Naive Bayes classifier which is used for multinomially distributed data, and it's particularly suitable for text classification problems. The principle behind Naive Bayes is based on Bayes' theorem, with the 'naive' assumption that the presence (or absence) of a particular feature of a class is unrelated to the presence (or absence) of any other feature. In text classification, this could mean classifying a document or email as belonging to one of several categories based on the text content. The \"multinomial\" aspect relates to the distribution of words in the document; it assumes that the features (words) follow a multinomial distribution rather than a Gaussian (continuous) distribution, which makes it suitable for discrete data such as word counts in text.\n",
    "\n",
    "\n",
    "- **Vectorization:** In the context of machine learning and NLP, vectorization is the process of converting text into numerical data so that it can be used to train models. Since machine learning algorithms work with numerical data, this step is crucial for text analysis. There are several methods to vectorize text, including simple count methods that record the frequency of each word in a text, and more complex models like TF-IDF (Term Frequency-Inverse Document Frequency) that adjust frequencies based on the word’s rarity across documents, aiming to capture more about the word's importance.\n",
    "\n",
    "    - **Count Vectorizer:** Specifically in the context of NLP, a count vectorizer is a type of vectorization technique that converts a collection of text documents into a matrix of token counts. This model will iterate through the documents and count the occurrence of each word (token). The output is a sparse matrix where each row represents a document and each column represents a token from across all documents, with the values being the count of the token in the document. This method is straightforward but effective for many text classification tasks, providing the raw frequencies of terms as features for the model.\n",
    "\n",
    "- **Tokenizer:** A tokenizer is a tool used to split text into individual units called tokens, which can be words, characters, or subwords. This is a fundamental step in text preprocessing before further analysis or modeling can be performed. Tokenization helps in breaking down text into manageable pieces for algorithms to process and understand the structure of the text. Different tokenizers have different rules for identifying tokens, often considering punctuation, spaces, and sometimes grammatical structures.\n",
    "\n",
    "\n",
    "- **Confusion Matrix:** A confusion matrix is a table often used to describe the performance of a classification model on a set of test data for which the true values are known. It's especially useful for assessing performance in binary and multiclass classification problems. The matrix compares the actual target values with those predicted by the model, providing insights into not only the overall accuracy but also how the model performs with respect to each class. It includes true positives (TP), true negatives (TN), false positives (FP), and false negatives (FN), which can be used to calculate various performance metrics such as precision, recall, and F1 score. The confusion matrix helps in understanding not just the errors being made but also the types of errors, which is crucial for improving the model.\n",
    "\n",
    "    \n",
    "    \n",
    "    \n",
    "# Python insights:\n",
    "* data['column_name'] --> returns a Pandas.Series\n",
    "* data[['column_name]] --> returns a Pandas.DataFrame\n",
    "     "
   ]
  },
  {
   "cell_type": "code",
   "execution_count": null,
   "metadata": {},
   "outputs": [],
   "source": []
  }
 ],
 "metadata": {
  "kernelspec": {
   "display_name": "Python 3 (ipykernel)",
   "language": "python",
   "name": "python3"
  },
  "language_info": {
   "codemirror_mode": {
    "name": "ipython",
    "version": 3
   },
   "file_extension": ".py",
   "mimetype": "text/x-python",
   "name": "python",
   "nbconvert_exporter": "python",
   "pygments_lexer": "ipython3",
   "version": "3.9.19"
  }
 },
 "nbformat": 4,
 "nbformat_minor": 1
}
